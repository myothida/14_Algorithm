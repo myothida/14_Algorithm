{
 "cells": [
  {
   "cell_type": "code",
   "execution_count": null,
   "metadata": {},
   "outputs": [],
   "source": [
    "def partition(array, start, end):\n",
    "    pivot = array[start]\n",
    "    low = start + 1\n",
    "    high = end\n",
    "\n",
    "    while True:        \n",
    "        while low <= high and array[high] >= pivot:\n",
    "            high = high - 1\n",
    "\n",
    "        while low <= high and array[low] <= pivot:\n",
    "            low = low + 1\n",
    "            \n",
    "        if low <= high:\n",
    "            array[low], array[high] = array[high], array[low]\n",
    "            \n",
    "        else:            \n",
    "            break\n",
    "\n",
    "    array[start], array[high] = array[high], array[start]\n",
    "    print(array)\n",
    "    return high\n",
    "\n",
    "def quick_sort(array, start, end):\n",
    "    if start >= end:\n",
    "        return\n",
    "\n",
    "    p = partition(array, start, end)\n",
    "    quick_sort(array, start, p-1)\n",
    "    quick_sort(array, p+1, end)\n",
    "\n",
    "    return array\n",
    "\n",
    "# Example usage:\n",
    "arr = [1430, 3292, 7684, 1338, 193, 595, 4243, 9002, 4393, 130,1001] \n",
    "sorted_arr = quick_sort(arr, 0, len(arr) - 1)\n",
    "print(\"Sorted array:\", sorted_arr)"
   ]
  }
 ],
 "metadata": {
  "kernelspec": {
   "display_name": "Python 3",
   "language": "python",
   "name": "python3"
  },
  "language_info": {
   "codemirror_mode": {
    "name": "ipython",
    "version": 3
   },
   "file_extension": ".py",
   "mimetype": "text/x-python",
   "name": "python",
   "nbconvert_exporter": "python",
   "pygments_lexer": "ipython3",
   "version": "3.12.1"
  }
 },
 "nbformat": 4,
 "nbformat_minor": 2
}
