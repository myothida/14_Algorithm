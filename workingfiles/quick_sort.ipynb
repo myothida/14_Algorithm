{
 "cells": [
  {
   "cell_type": "code",
   "execution_count": 1,
   "metadata": {},
   "outputs": [
    {
     "name": "stdout",
     "output_type": "stream",
     "text": [
      "1001 3292\n",
      "130 7684\n",
      "[595, 1001, 130, 1338, 193, 1430, 4243, 9002, 4393, 7684, 3292]\n",
      "193 1001\n",
      "[130, 193, 595, 1338, 1001, 1430, 4243, 9002, 4393, 7684, 3292]\n",
      "[130, 193, 595, 1338, 1001, 1430, 4243, 9002, 4393, 7684, 3292]\n",
      "[130, 193, 595, 1001, 1338, 1430, 4243, 9002, 4393, 7684, 3292]\n",
      "3292 9002\n",
      "[130, 193, 595, 1001, 1338, 1430, 3292, 4243, 4393, 7684, 9002]\n",
      "[130, 193, 595, 1001, 1338, 1430, 3292, 4243, 4393, 7684, 9002]\n",
      "[130, 193, 595, 1001, 1338, 1430, 3292, 4243, 4393, 7684, 9002]\n",
      "Sorted array: [130, 193, 595, 1001, 1338, 1430, 3292, 4243, 4393, 7684, 9002]\n"
     ]
    }
   ],
   "source": [
    "def partition(array, start, end):\n",
    "    pivot = array[start]\n",
    "    low = start + 1\n",
    "    high = end\n",
    "\n",
    "    while True:        \n",
    "        while low <= high and array[high] >= pivot:\n",
    "            high = high - 1\n",
    "\n",
    "        while low <= high and array[low] <= pivot:\n",
    "            low = low + 1\n",
    "            \n",
    "        if low <= high:\n",
    "            array[low], array[high] = array[high], array[low]\n",
    "            print(array[low], array[high] )\n",
    "        else:            \n",
    "            break\n",
    "\n",
    "    array[start], array[high] = array[high], array[start]\n",
    "    print(array)\n",
    "    return high\n",
    "\n",
    "def quick_sort(array, start, end):\n",
    "    if start >= end:\n",
    "        return\n",
    "\n",
    "    p = partition(array, start, end)\n",
    "    quick_sort(array, start, p-1)\n",
    "    quick_sort(array, p+1, end)\n",
    "\n",
    "    return array\n",
    "\n",
    "# Example usage:\n",
    "arr = [1430, 3292, 7684, 1338, 193, 595, 4243, 9002, 4393, 130,1001] \n",
    "sorted_arr = quick_sort(arr, 0, len(arr) - 1)\n",
    "print(\"Sorted array:\", sorted_arr)"
   ]
  },
  {
   "cell_type": "code",
   "execution_count": 5,
   "metadata": {},
   "outputs": [
    {
     "name": "stdout",
     "output_type": "stream",
     "text": [
      "4 0 (193, 1430)\n",
      "5 1 (595, 3292)\n",
      "9 2 (130, 7684)\n",
      "[193, 595, 130, 1001, 1430, 3292, 4243, 9002, 4393, 7684, 1338]\n",
      "3 [193, 595, 130, 1001, 1430, 3292, 4243, 9002, 4393, 7684, 1338]\n"
     ]
    }
   ],
   "source": [
    "def partition(array, low, high):\n",
    " \n",
    "    # choose the rightmost element as pivot\n",
    "    pivot = array[high]\n",
    " \n",
    "    # pointer for greater element\n",
    "    i = low - 1\n",
    "    \n",
    "    \n",
    "    # traverse through all elements\n",
    "    # compare each element with pivot\n",
    "    for j in range(low, high):\n",
    "        if array[j] <= pivot:\n",
    " \n",
    "            # If element smaller than pivot is found\n",
    "            # swap it with the greater element pointed by i\n",
    "            i = i + 1\n",
    "\n",
    "            # Swapping element at i with element at j\n",
    "            (array[i], array[j]) = (array[j], array[i])    \n",
    "            print(j, i, (array[i], array[j]))\n",
    "    # Swap the pivot element with the greater element specified by i\n",
    "    (array[i + 1], array[high]) = (array[high], array[i + 1])\n",
    "    print(array)\n",
    "    \n",
    "    # Return the position from where partition is done\n",
    "    return i + 1\n",
    " \n",
    "# function to perform quicksort\n",
    " \n",
    " \n",
    "def quickSort(array, low, high):\n",
    "    if low < high:\n",
    " \n",
    "        # Find pivot element such that\n",
    "        # element smaller than pivot are on the left\n",
    "        # element greater than pivot are on the right\n",
    "        pi = partition(array, low, high)\n",
    "        print(pi, array)\n",
    "        input()\n",
    "        # Recursive call on the left of pivot\n",
    "        quickSort(array, low, pi - 1)\n",
    " \n",
    "        # Recursive call on the right of pivot\n",
    "        quickSort(array, pi + 1, high)\n",
    " \n",
    " \n",
    "data = [1430, 3292, 7684, 1338, 193, 595, 4243, 9002, 4393, 130, 1001]\n",
    "quickSort(data, 0, len(data)-1)\n",
    "print(\"Unsorted Array\")\n",
    "print(data)"
   ]
  },
  {
   "cell_type": "code",
   "execution_count": null,
   "metadata": {},
   "outputs": [],
   "source": []
  }
 ],
 "metadata": {
  "kernelspec": {
   "display_name": "Python 3",
   "language": "python",
   "name": "python3"
  },
  "language_info": {
   "codemirror_mode": {
    "name": "ipython",
    "version": 3
   },
   "file_extension": ".py",
   "mimetype": "text/x-python",
   "name": "python",
   "nbconvert_exporter": "python",
   "pygments_lexer": "ipython3",
   "version": "3.12.1"
  }
 },
 "nbformat": 4,
 "nbformat_minor": 2
}
