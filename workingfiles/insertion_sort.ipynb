{
 "cells": [
  {
   "cell_type": "code",
   "execution_count": 4,
   "metadata": {},
   "outputs": [
    {
     "name": "stdout",
     "output_type": "stream",
     "text": [
      "[8, 21, 32, 51, 64] Num of iterations: 15\n"
     ]
    }
   ],
   "source": [
    "\n",
    "def insertionSort(my_array):\n",
    "    N = len(my_array)  \n",
    "    iteration = 0\n",
    "\n",
    "    if N <= 1:\n",
    "        return  # If the array has 0 or 1 element, it is already sorted, so return\n",
    " \n",
    "    for idx in range(N):  \n",
    "        \n",
    "        key = my_array[idx]  # Store the current element as the key to be inserted in the right position   \n",
    "\n",
    "        # check the preceedings numbers\n",
    "        \n",
    "        for j in range(idx,-1,-1):            \n",
    "            iteration = iteration + 1 \n",
    "            location = idx\n",
    "            \n",
    "            if(key<my_array[j]):                     \n",
    "                my_array[j+1] = my_array[j]  \n",
    "                location = j   \n",
    "                \n",
    "        my_array[location] = key       \n",
    "        \n",
    "\n",
    "    return iteration, my_array\n",
    "\n",
    "\n",
    "#sorted array\n",
    "#my_array = [5, 6, 11, 12, 13]\n",
    "#N, ans = insertionSort(my_array)\n",
    "#print(ans, 'Num of iterations:', N)\n",
    "\n",
    "#unsorted array\n",
    "#my_array = [10, 12, 6, 8, 13]\n",
    "#N, ans = insertionSort(my_array)\n",
    "#print(ans, 'Num of iterations:', N)\n",
    "\n",
    "\n",
    "#reverse array\n",
    "my_array = [64, 51, 32, 21, 8 ]\n",
    "N, ans = insertionSort(my_array)\n",
    "print(ans, 'Num of iterations:', N)\n",
    "\n"
   ]
  },
  {
   "cell_type": "code",
   "execution_count": 52,
   "metadata": {},
   "outputs": [
    {
     "name": "stdout",
     "output_type": "stream",
     "text": [
      "[5, 6, 11, 12, 13] Num of iterations: 0\n",
      "0\n",
      "[5, 6, 11, 12, 13] Num of iterations: 0\n",
      "1707507495.105072498321533203125\n"
     ]
    }
   ],
   "source": [
    "\n",
    "def modified_insertionSort(my_array):\n",
    "    N = len(my_array)  \n",
    "    iteration = 0\n",
    "\n",
    "    if N <= 1:\n",
    "        return  # If the array has 0 or 1 element, it is already sorted, so return\n",
    " \n",
    "    for idx in range(1, N):          \n",
    "        key = my_array[idx]          \n",
    "        # check the preceedings numbers: go in reverse order\n",
    "        j = idx-1        \n",
    "        \n",
    "        while j >= 0 and key < my_array[j]: \n",
    "            my_array[j+1] = my_array[j]  \n",
    "            j  = j -1    \n",
    "        my_array[j+1] = key  \n",
    "\n",
    "    return iteration, my_array\n",
    "  \n",
    "#sorted array\n",
    "import time\n",
    "import decimal\n",
    "format(2**(1/2), '.60g') \n",
    "\n",
    "ts = time.time()\n",
    "my_array = [5, 6, 11, 12, 13]\n",
    "N, ans = modified_insertionSort(my_array)\n",
    "print(ans, 'Num of iterations:', N)\n",
    "t1 = time.time()-ts\n",
    "print(decimal.Decimal.from_float(t1))\n",
    "#reverse array\n",
    "my_array = [13, 12, 11, 6, 5]\n",
    "N, ans = modified_insertionSort(my_array)\n",
    "print(ans, 'Num of iterations:', N)\n",
    "t2 = time.time()-t1\n",
    "print(decimal.Decimal.from_float(t2))"
   ]
  }
 ],
 "metadata": {
  "kernelspec": {
   "display_name": "Python 3",
   "language": "python",
   "name": "python3"
  },
  "language_info": {
   "codemirror_mode": {
    "name": "ipython",
    "version": 3
   },
   "file_extension": ".py",
   "mimetype": "text/x-python",
   "name": "python",
   "nbconvert_exporter": "python",
   "pygments_lexer": "ipython3",
   "version": "3.12.1"
  }
 },
 "nbformat": 4,
 "nbformat_minor": 2
}
