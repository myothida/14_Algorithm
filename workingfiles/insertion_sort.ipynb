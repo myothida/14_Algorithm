{
 "cells": [
  {
   "cell_type": "code",
   "execution_count": null,
   "metadata": {},
   "outputs": [],
   "source": [
    "def insertionSort(my_array):\n",
    "    N = len(my_array)  \n",
    "    iteration = 0\n",
    "\n",
    "    if N <= 1:\n",
    "        return  \n",
    " \n",
    "    for idx in range(N):          \n",
    "        key = my_array[idx]  \n",
    "        for j in range(idx,-1,-1):            \n",
    "            iteration = iteration + 1 \n",
    "            location = idx\n",
    "            \n",
    "            if(key<my_array[j]):                     \n",
    "                my_array[j+1] = my_array[j]  \n",
    "                location = j   \n",
    "                \n",
    "        my_array[location] = key               \n",
    "\n",
    "    return iteration, my_array"
   ]
  },
  {
   "cell_type": "code",
   "execution_count": null,
   "metadata": {},
   "outputs": [],
   "source": [
    "def modified_insertionSort(my_array):\n",
    "    N = len(my_array)  \n",
    "    iteration = 0\n",
    "\n",
    "    if N <= 1:\n",
    "        return  \n",
    " \n",
    "    for idx in range(1, N):          \n",
    "        key = my_array[idx]  \n",
    "        j = idx-1        \n",
    "        \n",
    "        while j >= 0 and key < my_array[j]: \n",
    "            my_array[j+1] = my_array[j]  \n",
    "            j  = j -1    \n",
    "        my_array[j+1] = key  \n",
    "        print(my_array)\n",
    "\n",
    "    return iteration, my_array  \n",
    "\n",
    "my_array = [2,  4, 14,  5,  17,  8,  1,  3,  26]\n",
    "modified_insertionSort(my_array)"
   ]
  }
 ],
 "metadata": {
  "kernelspec": {
   "display_name": "Python 3",
   "language": "python",
   "name": "python3"
  },
  "language_info": {
   "codemirror_mode": {
    "name": "ipython",
    "version": 3
   },
   "file_extension": ".py",
   "mimetype": "text/x-python",
   "name": "python",
   "nbconvert_exporter": "python",
   "pygments_lexer": "ipython3",
   "version": "3.12.1"
  }
 },
 "nbformat": 4,
 "nbformat_minor": 2
}
