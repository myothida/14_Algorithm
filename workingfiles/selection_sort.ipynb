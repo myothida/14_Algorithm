{
 "cells": [
  {
   "cell_type": "code",
   "execution_count": 1,
   "metadata": {},
   "outputs": [
    {
     "name": "stdout",
     "output_type": "stream",
     "text": [
      "[10, 12, 6, 8, 13]\n",
      "[6, 12, 10, 8, 13]\n",
      "[6, 8, 10, 12, 13]\n",
      "[6, 8, 10, 12, 13]\n",
      "[6, 8, 10, 12, 13]\n",
      "[6, 8, 10, 12, 13]\n",
      "[6, 8, 10, 12, 13] Num of iterations: 5\n",
      "[64, 51, 32, 21, 8]\n",
      "[8, 51, 32, 21, 64]\n",
      "[8, 21, 32, 51, 64]\n",
      "[8, 21, 32, 51, 64]\n",
      "[8, 21, 32, 51, 64]\n",
      "[8, 21, 32, 51, 64]\n",
      "[8, 21, 32, 51, 64] Num of iterations: 5\n"
     ]
    }
   ],
   "source": [
    "def selection_sort(A):\n",
    "    N = len(A)\n",
    "    # Traverse through all array elements \n",
    "    print(A)\n",
    "    for i in range(N):       \n",
    "        #print('Pass:', i + 1)\n",
    "        min_idx = i \n",
    "        #print('Assume that minimum value is at index:', min_idx)\n",
    "        #print('Check index: ', i+1 , ' to ', N-1 , 'and find minimum')\n",
    "        for j in range(i+1, N): \n",
    "            if A[min_idx] > A[j]: \n",
    "                min_idx = j \n",
    "        #print('minimum is at', min_idx, 'and Value is ', A[min_idx])\n",
    "        \n",
    "        # Swap the found minimum element with \n",
    "                #the 1st index in the remaining array\n",
    "        #print('Swap the minimum at index ', min_idx, 'with the index at', i)\n",
    "        A[i], A[min_idx] = A[min_idx], A[i] \n",
    "        print(A)\n",
    "    return N, A\n",
    "  \n",
    " \n",
    "\n",
    "#sorted array\n",
    "#my_array = [5, 6, 11, 12, 13]\n",
    "#N, ans = selection_sort(my_array)\n",
    "#print(ans, 'Num of iterations:', N)\n",
    "\n",
    "#unsorted array\n",
    "my_array = [10, 12, 6, 8, 13]\n",
    "N, ans = selection_sort(my_array)\n",
    "print(ans, 'Num of iterations:', N)\n",
    "\n",
    "\n",
    "#reverse array\n",
    "my_array = [64, 51, 32, 21, 8 ]\n",
    "N, ans = selection_sort(my_array)\n",
    "print(ans, 'Num of iterations:', N)"
   ]
  },
  {
   "cell_type": "code",
   "execution_count": 3,
   "metadata": {},
   "outputs": [],
   "source": [
    "def selection_sort(A):\n",
    "    N = len(A)\n",
    "    for i in range(N):     \n",
    "        \n",
    "        min_idx = i         \n",
    "        for j in range(i+1, N): \n",
    "            if A[min_idx] > A[j]: \n",
    "                min_idx = j \n",
    "                \n",
    "        A[i], A[min_idx] = A[min_idx], A[i] \n",
    "\n",
    "    return N, A\n",
    "  "
   ]
  },
  {
   "cell_type": "code",
   "execution_count": null,
   "metadata": {},
   "outputs": [],
   "source": []
  }
 ],
 "metadata": {
  "kernelspec": {
   "display_name": "Python 3",
   "language": "python",
   "name": "python3"
  },
  "language_info": {
   "codemirror_mode": {
    "name": "ipython",
    "version": 3
   },
   "file_extension": ".py",
   "mimetype": "text/x-python",
   "name": "python",
   "nbconvert_exporter": "python",
   "pygments_lexer": "ipython3",
   "version": "3.12.1"
  }
 },
 "nbformat": 4,
 "nbformat_minor": 2
}
