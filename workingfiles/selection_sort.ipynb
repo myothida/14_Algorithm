{
 "cells": [
  {
   "cell_type": "code",
   "execution_count": null,
   "metadata": {},
   "outputs": [],
   "source": [
    "def selection_sort(A):\n",
    "    N = len(A)\n",
    "\n",
    "    for i in range(N):       \n",
    "        \n",
    "        min_idx = i \n",
    "\n",
    "        for j in range(i+1, N): \n",
    "            if A[min_idx] > A[j]: \n",
    "                min_idx = j \n",
    "\n",
    "\n",
    "        A[i], A[min_idx] = A[min_idx], A[i] \n",
    "        print(A)\n",
    "    return N, A\n",
    "  \n",
    " \n",
    "#sorted array\n",
    "my_array = [5, 6, 8, 9, 3 , 11, 12, 13, 40, 36, 16]\n",
    "N, ans = selection_sort(my_array)\n",
    "print(ans, 'Num of iterations:', N)\n",
    "\n",
    "#unsorted array\n",
    "#my_array = [10, 12, 6, 8, 13]\n",
    "#N, ans = selection_sort(my_array)\n",
    "#print(ans, 'Num of iterations:', N)\n",
    "\n",
    "\n",
    "#reverse array\n",
    "\"\"\"\n",
    "my_array = [64, 51, 32, 21, 8 ]\n",
    "N, ans = selection_sort(my_array)\n",
    "print(ans, 'Num of iterations:', N)\n",
    "\"\"\""
   ]
  },
  {
   "cell_type": "code",
   "execution_count": null,
   "metadata": {},
   "outputs": [],
   "source": [
    "def selection_sort(Arr):\n",
    "    N = len(Arr)\n",
    "    for i in range(N):     \n",
    "        \n",
    "        min_idx = i         \n",
    "        for j in range(i+1, N): \n",
    "            if Arr[min_idx] > Arr[j]: \n",
    "                min_idx = j \n",
    "                \n",
    "        Arr[i], Arr[min_idx] = Arr[min_idx], Arr[i] \n",
    "        print(Arr)\n",
    "    return N, Arr\n",
    "\n",
    "arr = [2,  4, 14,  5,  17,  8,  1,  3,  26]\n",
    "selection_sort(arr)"
   ]
  }
 ],
 "metadata": {
  "kernelspec": {
   "display_name": "Python 3",
   "language": "python",
   "name": "python3"
  },
  "language_info": {
   "codemirror_mode": {
    "name": "ipython",
    "version": 3
   },
   "file_extension": ".py",
   "mimetype": "text/x-python",
   "name": "python",
   "nbconvert_exporter": "python",
   "pygments_lexer": "ipython3",
   "version": "3.12.1"
  }
 },
 "nbformat": 4,
 "nbformat_minor": 2
}
