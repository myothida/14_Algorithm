{
 "cells": [
  {
   "cell_type": "code",
   "execution_count": 2,
   "metadata": {},
   "outputs": [
    {
     "name": "stdout",
     "output_type": "stream",
     "text": [
      "Pass:  1\n",
      "[3, 4, 1, 5, 2]\n",
      "[3, 1, 4, 5, 2]\n",
      "[3, 1, 4, 5, 2]\n",
      "[3, 1, 4, 2, 5]\n",
      "Pass:  2\n",
      "[1, 3, 4, 2, 5]\n",
      "[1, 3, 4, 2, 5]\n",
      "[1, 3, 2, 4, 5]\n",
      "[1, 3, 2, 4, 5]\n",
      "Pass:  3\n",
      "[1, 3, 2, 4, 5]\n",
      "[1, 2, 3, 4, 5]\n",
      "[1, 2, 3, 4, 5]\n",
      "[1, 2, 3, 4, 5]\n",
      "Pass:  4\n",
      "[1, 2, 3, 4, 5]\n",
      "[1, 2, 3, 4, 5]\n",
      "[1, 2, 3, 4, 5]\n",
      "[1, 2, 3, 4, 5]\n",
      "Pass:  5\n",
      "[1, 2, 3, 4, 5]\n",
      "[1, 2, 3, 4, 5]\n",
      "[1, 2, 3, 4, 5]\n",
      "[1, 2, 3, 4, 5]\n"
     ]
    },
    {
     "data": {
      "text/plain": [
       "20"
      ]
     },
     "execution_count": 2,
     "metadata": {},
     "output_type": "execute_result"
    }
   ],
   "source": [
    "# Bubble Sort\n",
    " \n",
    "def bubbleSort(my_array):\n",
    "    n = len(my_array)    \n",
    "    iteration = 0\n",
    "    for i in range(0, n):\n",
    "        print('Pass: ', i+1)\n",
    "        for j in range(0, n-1):\n",
    "            # Swap if the element found is greater than the next element         \n",
    "            iteration = iteration + 1\n",
    "            if my_array[j] > my_array[j + 1]:                \n",
    "                my_array[j], my_array[j + 1] = my_array[j + 1], my_array[j]\n",
    "            print(my_array)\n",
    "    return iteration\n",
    "\n",
    "# Instance to test the above code\n",
    "my_array1 = [4, 8, 6, 5, 15, 32, 20, 19, 18, 7]\n",
    "my_array = [16, 24, 36, 44, 52, 26, 37, 34, 56, 78]\n",
    "my_array2 = [2, 5, 8, 10, 12, 14, 18, 20, 21, 23]\n",
    "sample_arry = [3, 4, 1, 5, 2]\n",
    "bubbleSort(sample_arry) "
   ]
  },
  {
   "cell_type": "code",
   "execution_count": 3,
   "metadata": {},
   "outputs": [
    {
     "name": "stdout",
     "output_type": "stream",
     "text": [
      "[1, 2, 3, 4, 5] num of iterations 10\n"
     ]
    }
   ],
   "source": [
    "def improved_bubbleSort(data):\n",
    "    n = len(data)\n",
    "    iteration = 0\n",
    "    for i in range(n):\n",
    "        swapped = False       \n",
    "        for j in range(0, n-i-1):\n",
    "            iteration = iteration + 1\n",
    "            if data[j] > data[j+1]:\n",
    "                data[j], data[j+1] = data[j+1], data[j]\n",
    "                swapped = True            \n",
    "        if not swapped:\n",
    "            break\n",
    "\n",
    "    return data, iteration\n",
    "\n",
    "\n",
    "unsortedData = [20, 33, 12, 53, 24, 65, 23, 4, 52, 1]\n",
    "sortedData = [1, 4, 12, 20, 23, 24, 33, 52, 53, 65]\n",
    "reverseData = [65, 53, 52, 33, 24, 23, 20, 12, 4, 1 ]\n",
    "sample_array = [5, 3, 4, 1, 2]\n",
    "\n",
    "sortedData, N = improved_bubbleSort(sample_array)\n",
    "print(sortedData, 'num of iterations', N)"
   ]
  },
  {
   "cell_type": "code",
   "execution_count": 4,
   "metadata": {},
   "outputs": [],
   "source": [
    "import numpy as np\n",
    "import pandas as pd\n",
    "import time\n",
    "\n",
    "N = [10, 100, 1000, 8000, 6400, 12000]\n",
    "\n",
    "time_allocation = [] #pd.DataFrame()\n",
    "time_bubblesort = []\n",
    "for n in N:\n",
    "    # time for memory allocation\n",
    "    ts = time.time()\n",
    "    my_arr = np.random.randint(0, 12000, n)\n",
    "    time_allocation.append(time.time()-ts)\n",
    "    \n",
    "    ts = time.time()\n",
    "    improved_bubbleSort(my_arr)\n",
    "    time_bubblesort.append(time.time()-ts)\n",
    "\n"
   ]
  },
  {
   "cell_type": "code",
   "execution_count": 5,
   "metadata": {},
   "outputs": [
    {
     "data": {
      "text/html": [
       "<div>\n",
       "<style scoped>\n",
       "    .dataframe tbody tr th:only-of-type {\n",
       "        vertical-align: middle;\n",
       "    }\n",
       "\n",
       "    .dataframe tbody tr th {\n",
       "        vertical-align: top;\n",
       "    }\n",
       "\n",
       "    .dataframe thead th {\n",
       "        text-align: right;\n",
       "    }\n",
       "</style>\n",
       "<table border=\"1\" class=\"dataframe\">\n",
       "  <thead>\n",
       "    <tr style=\"text-align: right;\">\n",
       "      <th></th>\n",
       "      <th>N</th>\n",
       "      <th>Sorting</th>\n",
       "    </tr>\n",
       "  </thead>\n",
       "  <tbody>\n",
       "    <tr>\n",
       "      <th>0</th>\n",
       "      <td>10</td>\n",
       "      <td>0.000000</td>\n",
       "    </tr>\n",
       "    <tr>\n",
       "      <th>1</th>\n",
       "      <td>100</td>\n",
       "      <td>0.001000</td>\n",
       "    </tr>\n",
       "    <tr>\n",
       "      <th>2</th>\n",
       "      <td>1000</td>\n",
       "      <td>0.082778</td>\n",
       "    </tr>\n",
       "    <tr>\n",
       "      <th>3</th>\n",
       "      <td>8000</td>\n",
       "      <td>5.417630</td>\n",
       "    </tr>\n",
       "    <tr>\n",
       "      <th>4</th>\n",
       "      <td>6400</td>\n",
       "      <td>3.398681</td>\n",
       "    </tr>\n",
       "    <tr>\n",
       "      <th>5</th>\n",
       "      <td>12000</td>\n",
       "      <td>12.149810</td>\n",
       "    </tr>\n",
       "  </tbody>\n",
       "</table>\n",
       "</div>"
      ],
      "text/plain": [
       "       N    Sorting\n",
       "0     10   0.000000\n",
       "1    100   0.001000\n",
       "2   1000   0.082778\n",
       "3   8000   5.417630\n",
       "4   6400   3.398681\n",
       "5  12000  12.149810"
      ]
     },
     "execution_count": 5,
     "metadata": {},
     "output_type": "execute_result"
    }
   ],
   "source": [
    "big_O = pd.DataFrame({'N': N, 'Sorting': time_bubblesort})\n",
    "big_O"
   ]
  },
  {
   "cell_type": "code",
   "execution_count": null,
   "metadata": {},
   "outputs": [],
   "source": []
  }
 ],
 "metadata": {
  "kernelspec": {
   "display_name": "Python 3",
   "language": "python",
   "name": "python3"
  },
  "language_info": {
   "codemirror_mode": {
    "name": "ipython",
    "version": 3
   },
   "file_extension": ".py",
   "mimetype": "text/x-python",
   "name": "python",
   "nbconvert_exporter": "python",
   "pygments_lexer": "ipython3",
   "version": "3.12.1"
  }
 },
 "nbformat": 4,
 "nbformat_minor": 2
}
