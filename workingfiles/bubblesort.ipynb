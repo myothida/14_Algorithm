{
 "cells": [
  {
   "cell_type": "code",
   "execution_count": 1,
   "metadata": {},
   "outputs": [
    {
     "name": "stderr",
     "output_type": "stream",
     "text": [
      "C:\\Users\\mthida\\AppData\\Local\\Temp\\ipykernel_17636\\3866909860.py:2: DeprecationWarning: \n",
      "Pyarrow will become a required dependency of pandas in the next major release of pandas (pandas 3.0),\n",
      "(to allow more performant data types, such as the Arrow string type, and better interoperability with other libraries)\n",
      "but was not found to be installed on your system.\n",
      "If this would cause problems for you,\n",
      "please provide us feedback at https://github.com/pandas-dev/pandas/issues/54466\n",
      "        \n",
      "  import pandas as pd\n"
     ]
    }
   ],
   "source": [
    "# Bubble Sort\n",
    "import pandas as pd\n",
    " \n",
    "def bubbleSort(my_array):\n",
    "    n = len(my_array)    \n",
    "    iteration = 0\n",
    "    for i in range(0, n):\n",
    "        for j in range(0, n-1):\n",
    "            # Swap if the element found is greater than the next element         \n",
    "            iteration = iteration + 1\n",
    "            if my_array[j] > my_array[j + 1]:                \n",
    "                my_array[j], my_array[j + 1] = my_array[j + 1], my_array[j]\n",
    " \n",
    " \n",
    "# Instance to test the above code\n",
    "my_array = [16, 24, 36, 44, 52, 26, 37, 34, 56, 78]\n",
    "my_array2 = [2, 5, 8, 10, 12, 14, 18, 20, 21, 23]\n",
    " \n",
    "bubbleSort(my_array2) "
   ]
  },
  {
   "cell_type": "code",
   "execution_count": null,
   "metadata": {},
   "outputs": [],
   "source": []
  }
 ],
 "metadata": {
  "kernelspec": {
   "display_name": "Python 3",
   "language": "python",
   "name": "python3"
  },
  "language_info": {
   "codemirror_mode": {
    "name": "ipython",
    "version": 3
   },
   "file_extension": ".py",
   "mimetype": "text/x-python",
   "name": "python",
   "nbconvert_exporter": "python",
   "pygments_lexer": "ipython3",
   "version": "3.12.1"
  }
 },
 "nbformat": 4,
 "nbformat_minor": 2
}
