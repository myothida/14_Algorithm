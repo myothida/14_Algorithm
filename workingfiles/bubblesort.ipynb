{
 "cells": [
  {
   "cell_type": "code",
   "execution_count": null,
   "metadata": {},
   "outputs": [],
   "source": [
    "# Bubble Sort\n",
    " \n",
    "def bubbleSort(my_array):\n",
    "    n = len(my_array)    \n",
    "    iteration = 0\n",
    "    for i in range(0, n):\n",
    "        print('Pass: ', i+1)\n",
    "        for j in range(0, n-1):\n",
    "            # Swap if the element found is greater than the next element         \n",
    "            iteration = iteration + 1\n",
    "            if my_array[j] > my_array[j + 1]:                \n",
    "                my_array[j], my_array[j + 1] = my_array[j + 1], my_array[j]\n",
    "        print(my_array)\n",
    "    return iteration\n",
    "\n",
    "# Instance to test the above code\n",
    "my_array1 = [4, 8, 6, 5, 15, 32, 20, 19, 18, 7]\n",
    "my_array = [16, 24, 36, 44, 52, 26, 37, 34, 56, 78]\n",
    "my_array2 = [2, 5, 8, 10, 12, 14, 18, 20, 21, 23]\n",
    "sample_arry = [2,  4, 14,  5,  17,  8,  1,  3,  26]\n",
    "bubbleSort(sample_arry) "
   ]
  },
  {
   "cell_type": "code",
   "execution_count": null,
   "metadata": {},
   "outputs": [],
   "source": [
    "def improved_bubbleSort(data):\n",
    "    n = len(data)\n",
    "    iteration = 0\n",
    "    for i in range(n):\n",
    "        swapped = False       \n",
    "        for j in range(0, n-i-1):\n",
    "            iteration = iteration + 1\n",
    "            if data[j] > data[j+1]:\n",
    "                data[j], data[j+1] = data[j+1], data[j]\n",
    "                swapped = True            \n",
    "        if not swapped:\n",
    "            break\n",
    "\n",
    "    return data, iteration"
   ]
  }
 ],
 "metadata": {
  "kernelspec": {
   "display_name": "Python 3",
   "language": "python",
   "name": "python3"
  },
  "language_info": {
   "codemirror_mode": {
    "name": "ipython",
    "version": 3
   },
   "file_extension": ".py",
   "mimetype": "text/x-python",
   "name": "python",
   "nbconvert_exporter": "python",
   "pygments_lexer": "ipython3",
   "version": "3.12.1"
  }
 },
 "nbformat": 4,
 "nbformat_minor": 2
}
