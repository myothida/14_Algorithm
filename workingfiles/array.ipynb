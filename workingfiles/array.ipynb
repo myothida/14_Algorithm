{
 "cells": [
  {
   "cell_type": "code",
   "execution_count": null,
   "metadata": {},
   "outputs": [],
   "source": [
    "import numpy as np \n",
    "import pandas as pd\n",
    "\n",
    "my_array = np.array([16, 24, 36, 44, 52, 26, 37, 34, 56, 78], dtype = int) \n",
    "\n",
    "memory_addresses = [hex(id(element)) for element in my_array]\n",
    "values = my_array.flatten()\n",
    "\n",
    "# Create a DataFrame\n",
    "data = {'Memory Location': memory_addresses, 'Value': values}\n",
    "\n",
    "\n",
    "df = pd.DataFrame(data)\n",
    "df"
   ]
  },
  {
   "cell_type": "code",
   "execution_count": null,
   "metadata": {},
   "outputs": [],
   "source": [
    "arr=np.array([73, 33, 24, 54, 16]) #np.arange(0,20,4,dtype=int)\n",
    "\n",
    "print(\"The given array is:\",arr)\n",
    "print(\"The size of array arr is:\",arr.size)\n",
    "print(\"The memorysize of each element of arr is:\", arr.itemsize,\"bytes\")\n",
    "print(\"The memory size of numpy array arr is:\",arr.itemsize*arr.size,\"bytes\")\n",
    "\n",
    "memory_addresses = [hex(id(element)) for element in arr]\n",
    "values = arr.flatten()\n",
    "\n",
    "# Create a DataFrame\n",
    "data = {'Memory Location': memory_addresses, 'Value': values}\n",
    "\n",
    "\n",
    "df = pd.DataFrame(data)\n",
    "df"
   ]
  },
  {
   "cell_type": "code",
   "execution_count": null,
   "metadata": {},
   "outputs": [],
   "source": [
    "import pandas as pd\n",
    "\n",
    "# Starting memory address\n",
    "start_address = 0x218b0478d70\n",
    "\n",
    "# Number of memory addresses\n",
    "num_addresses = 5\n",
    "\n",
    "# Increment between memory addresses (4 bytes)\n",
    "increment = 4\n",
    "values = [15, 43, 56, 78, 21]\n",
    "# Generating memory addresses and values\n",
    "memory_data = [{'Memory Address': hex(start_address + i * increment), 'Value': values[i]} for i in range(num_addresses)]\n",
    "\n",
    "# Creating a DataFrame\n",
    "df = pd.DataFrame(memory_data)\n",
    "\n",
    "# Printing the DataFrame\n",
    "print(df)\n",
    "\n"
   ]
  },
  {
   "cell_type": "code",
   "execution_count": null,
   "metadata": {},
   "outputs": [],
   "source": [
    "my_list = [16, 24, 36, 44, 52, 26, 37, 34, 56, 78]\n",
    "\n",
    "memory_addresses = [hex(id(element)) for element in my_list]\n",
    "# Create a DataFrame\n",
    "data = {'Memory Location': memory_addresses, 'Value': my_list}\n",
    "\n",
    "df = pd.DataFrame(data)\n",
    "df"
   ]
  },
  {
   "cell_type": "code",
   "execution_count": null,
   "metadata": {},
   "outputs": [],
   "source": [
    "my_list = [16, 24, 36, 'name', 52, 'age']\n",
    "\n",
    "memory_addresses = [hex(id(element)) for element in my_list]\n",
    "# Create a DataFrame\n",
    "data = {'Memory Location': memory_addresses, 'Value': my_list}\n",
    "\n",
    "df = pd.DataFrame(data)\n",
    "df"
   ]
  }
 ],
 "metadata": {
  "kernelspec": {
   "display_name": "venv",
   "language": "python",
   "name": "python3"
  },
  "language_info": {
   "codemirror_mode": {
    "name": "ipython",
    "version": 3
   },
   "file_extension": ".py",
   "mimetype": "text/x-python",
   "name": "python",
   "nbconvert_exporter": "python",
   "pygments_lexer": "ipython3",
   "version": "3.12.1"
  }
 },
 "nbformat": 4,
 "nbformat_minor": 2
}
