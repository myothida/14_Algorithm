{
 "cells": [
  {
   "cell_type": "code",
   "execution_count": null,
   "metadata": {},
   "outputs": [],
   "source": [
    "def recursive_fun1(n):\n",
    "    if(n<0):\n",
    "        raise ValueError(\"Factorial is not defined for negative integers.\")\n",
    "    elif(n==0):\n",
    "        return 1\n",
    "    else:  \n",
    "        print(f\"result = {n} * recursive_fun1({n-1}) is calculated. This calls recursive_fun1({n-1}).\")\n",
    "        result = n * recursive_fun1(n - 1)                  \n",
    "        return result\n",
    "    \n",
    "recursive_fun1(5)"
   ]
  },
  {
   "cell_type": "code",
   "execution_count": null,
   "metadata": {},
   "outputs": [],
   "source": [
    "import numpy as np\n",
    "call_count = 0\n",
    "\n",
    "def recursive_fun2(arr, target, low, high):\n",
    "    global call_count  \n",
    "    call_count += 1\n",
    "    \n",
    "    if low >= high:\n",
    "        return -1  \n",
    "    mid = (low + high) // 2\n",
    "    if arr[mid] == target:\n",
    "        return mid\n",
    "    elif arr[mid] < target:       \n",
    "        return recursive_fun2(arr, target, mid + 1, high)  \n",
    "    else:    \n",
    "        return recursive_fun2(arr, target, low, mid - 1)  "
   ]
  }
 ],
 "metadata": {
  "kernelspec": {
   "display_name": "Python 3",
   "language": "python",
   "name": "python3"
  },
  "language_info": {
   "codemirror_mode": {
    "name": "ipython",
    "version": 3
   },
   "file_extension": ".py",
   "mimetype": "text/x-python",
   "name": "python",
   "nbconvert_exporter": "python",
   "pygments_lexer": "ipython3",
   "version": "3.12.1"
  }
 },
 "nbformat": 4,
 "nbformat_minor": 2
}
