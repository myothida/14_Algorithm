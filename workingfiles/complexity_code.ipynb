{
 "cells": [
  {
   "cell_type": "code",
   "execution_count": null,
   "metadata": {},
   "outputs": [],
   "source": [
    "import numpy as np\n",
    "import pandas as pd\n",
    "\n",
    "import os\n",
    "import timeit\n",
    "import random\n",
    "random.seed(42)"
   ]
  },
  {
   "cell_type": "code",
   "execution_count": null,
   "metadata": {},
   "outputs": [],
   "source": [
    "def wrapper(func, *args, **kwargs):\n",
    "    def wrapped():\n",
    "        return func(*args, **kwargs)\n",
    "    return wrapped\n",
    "\n",
    "def timer(func, *args):\n",
    "    wrapped = wrapper(func, *args)\n",
    "    time = timeit.timeit(wrapped,number=10000)\n",
    "    return time\n",
    "    "
   ]
  },
  {
   "cell_type": "code",
   "execution_count": null,
   "metadata": {},
   "outputs": [],
   "source": [
    "import matplotlib.pyplot as plt\n",
    "\n",
    "def plotting_time(df, y_min, y_max):\n",
    "    plt.plot(df['N_size'], df['Run_time'], marker = 'o')    \n",
    "    plt.xlabel('Number of Elements')\n",
    "    plt.ylabel('Running Time (seconds)')\n",
    "    plt.ylim([y_min, y_max])\n"
   ]
  },
  {
   "cell_type": "code",
   "execution_count": null,
   "metadata": {},
   "outputs": [],
   "source": [
    "def fun_sum(int_a, int_b):\n",
    "    return int_a+int_b"
   ]
  },
  {
   "cell_type": "code",
   "execution_count": null,
   "metadata": {},
   "outputs": [],
   "source": [
    "def linear_search(arr, target):\n",
    "    for idx, value in enumerate(arr):        \n",
    "        if(target==value):\n",
    "            return idx+1\n",
    "    return -1"
   ]
  },
  {
   "cell_type": "code",
   "execution_count": null,
   "metadata": {},
   "outputs": [],
   "source": [
    "num_elements_list = [100, 200, 300, 400, 500]\n",
    "running_time = []\n",
    "\n",
    "for n in num_elements_list:\n",
    "    running_time.append(timer(fun_sum, int(n), int(n) + random.randint(1,int(1e10))))    \n",
    "    \n",
    "df = pd.DataFrame({'N_size': num_elements_list, 'Run_time': running_time})\n",
    "plotting_time(df, -0.5, 0.5)"
   ]
  },
  {
   "cell_type": "code",
   "execution_count": null,
   "metadata": {},
   "outputs": [],
   "source": [
    "num_elements_list = [100, 1000, 10000, 100000, 1000000]\n",
    "running_time = []\n",
    "\n",
    "for n in num_elements_list:\n",
    "    sorted_arr = list(range(n))\n",
    "    running_time.append(timer(linear_search, sorted_arr, n))    \n",
    "    \n",
    "df = pd.DataFrame({'N_size': num_elements_list, 'Run_time': running_time})\n",
    "plotting_time(df, -0.5, df['Run_time'].max()+1)\n"
   ]
  },
  {
   "cell_type": "code",
   "execution_count": null,
   "metadata": {},
   "outputs": [],
   "source": [
    "import numpy as np\n",
    "import matplotlib.pyplot as plt\n",
    "\n",
    "# Define values for a, b, and c\n",
    "a = 2\n",
    "b = 5\n",
    "c = 10\n",
    "\n",
    "# Generate values of n\n",
    "n_values = np.arange(1, 21)  # For n = 1 to 20\n",
    "\n",
    "# Calculate values for an^2 and bn + c\n",
    "quadratic_values = a * n_values ** 2\n",
    "linear_values = b * n_values + c\n",
    "\n",
    "# Plot the graphs\n",
    "plt.plot(n_values, quadratic_values, label=r'$an^2$')\n",
    "plt.plot(n_values, linear_values, label=r'$bn + c$')\n",
    "\n",
    "# Labeling and adding legend\n",
    "plt.xlabel('n')\n",
    "plt.ylabel('Value')\n",
    "plt.title('Comparison of $an^2$ and $bn + c$')\n",
    "plt.legend()\n",
    "\n",
    "# Show plot\n",
    "plt.grid(True)\n",
    "plt.show()\n"
   ]
  },
  {
   "cell_type": "code",
   "execution_count": null,
   "metadata": {},
   "outputs": [],
   "source": [
    "def linear_auxiliary_space(n):\n",
    "    # Create a list of size n\n",
    "    auxiliary_list = [0] * n\n",
    "    \n",
    "    for i in range(n):\n",
    "        auxiliary_list[i] = i\n",
    "    \n",
    "    for i in range(n):\n",
    "        auxiliary_list[i] *= 2\n",
    "    \n",
    "    print(\"Auxiliary List:\", auxiliary_list)\n",
    "\n",
    "\n",
    "linear_auxiliary_space(5)\n"
   ]
  }
 ],
 "metadata": {
  "kernelspec": {
   "display_name": "Python 3",
   "language": "python",
   "name": "python3"
  },
  "language_info": {
   "codemirror_mode": {
    "name": "ipython",
    "version": 3
   },
   "file_extension": ".py",
   "mimetype": "text/x-python",
   "name": "python",
   "nbconvert_exporter": "python",
   "pygments_lexer": "ipython3",
   "version": "3.12.1"
  }
 },
 "nbformat": 4,
 "nbformat_minor": 2
}
