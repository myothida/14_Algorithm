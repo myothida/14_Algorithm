{
 "cells": [
  {
   "cell_type": "code",
   "execution_count": 23,
   "metadata": {},
   "outputs": [
    {
     "name": "stdout",
     "output_type": "stream",
     "text": [
      "[4, 5, 7, 8, 16, 54, 81, 96, 102]\n",
      "[16, 54, 81, 96, 102]\n",
      "[81, 96, 102]\n",
      "True\n"
     ]
    }
   ],
   "source": [
    "def binary_search(nums,target):\n",
    "    \n",
    "    \n",
    "    if nums[0] > nums[-1]:\n",
    "        return False\n",
    "    else:\n",
    "        print(nums)\n",
    "        \n",
    "        mid = (len(nums))//2\n",
    "        if nums[mid] == target:\n",
    "            return True\n",
    "        elif nums[mid] > target:                \n",
    "            return binary_search(nums[0:mid],target)\n",
    "        else:     \n",
    "            return binary_search(nums[mid:],target)\n",
    "  \n",
    "arr1 = [4, 5, 7, 8, 16, 54, 81, 96, 102]\n",
    "target = 96\n",
    "ans = binary_search(arr1, int(target))\n",
    "print(ans)"
   ]
  },
  {
   "cell_type": "code",
   "execution_count": null,
   "metadata": {},
   "outputs": [
    {
     "name": "stdout",
     "output_type": "stream",
     "text": [
      "It takes 12 iterations to find target: 7\n"
     ]
    }
   ],
   "source": [
    "def seq_search(arr, target):\n",
    "    for idx, value in enumerate(arr):        \n",
    "        if(target==value):\n",
    "            return True, idx + 1\n",
    "    return False, idx + 1\n",
    "\n",
    "arr1 = [8, 3, 2, 16, 54, 21, 1, 2, 3, 4, 5, 7, 8]\n",
    "target = 7\n",
    "ans, N = seq_search(arr1, int(target))\n",
    "print('It takes' , N, 'iterations to find target:', arr1[N-1])"
   ]
  },
  {
   "cell_type": "code",
   "execution_count": null,
   "metadata": {},
   "outputs": [],
   "source": []
  }
 ],
 "metadata": {
  "kernelspec": {
   "display_name": "Python 3",
   "language": "python",
   "name": "python3"
  },
  "language_info": {
   "codemirror_mode": {
    "name": "ipython",
    "version": 3
   },
   "file_extension": ".py",
   "mimetype": "text/x-python",
   "name": "python",
   "nbconvert_exporter": "python",
   "pygments_lexer": "ipython3",
   "version": "3.10.11"
  }
 },
 "nbformat": 4,
 "nbformat_minor": 2
}
