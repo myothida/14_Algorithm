{
 "cells": [
  {
   "cell_type": "markdown",
   "metadata": {},
   "source": [
    "Insert Your data in the below cell:"
   ]
  },
  {
   "cell_type": "code",
   "execution_count": null,
   "metadata": {},
   "outputs": [],
   "source": [
    "#Name: _____________________________________\n",
    "\n",
    "#ID: _______________________________________\n",
    "\n",
    "#Submitted on: _____________________________"
   ]
  },
  {
   "cell_type": "markdown",
   "metadata": {},
   "source": [
    "Write  your algorithm in the below cell. Use # key to comment your algoirthm. "
   ]
  },
  {
   "cell_type": "markdown",
   "metadata": {},
   "source": [
    "Setting up the Classroom: Create a 2D environment representing a classroom with dimensions of 10 by 10 square feet. In this environment, place 20 students at random coordinates, each represented as a point in a 2D coordinate system.\n",
    "\n",
    "Selecting the Catcher: Randomly designate one of the students as the catcher.\n",
    "\n",
    "Defining Catching Conditions: Establish that the catcher can catch another student if their distance apart is less than 1 foot.\n",
    "\n",
    "Simulating Movement: Over a 20-minute period, allow both the students and the catcher to move randomly within the classroom.\n",
    "\n",
    "Determining the Outcome: If the catcher successfully catches all the students within the 20-minute timeframe, consider it a win. Otherwise, classify it as a loss for the catcher."
   ]
  },
  {
   "cell_type": "markdown",
   "metadata": {},
   "source": [
    "Write your Python code below. "
   ]
  },
  {
   "cell_type": "code",
   "execution_count": null,
   "metadata": {},
   "outputs": [],
   "source": []
  }
 ],
 "metadata": {
  "kernelspec": {
   "display_name": "base",
   "language": "python",
   "name": "python3"
  },
  "language_info": {
   "codemirror_mode": {
    "name": "ipython",
    "version": 3
   },
   "file_extension": ".py",
   "mimetype": "text/x-python",
   "name": "python",
   "nbconvert_exporter": "python",
   "pygments_lexer": "ipython3",
   "version": "3.9.13"
  }
 },
 "nbformat": 4,
 "nbformat_minor": 2
}
