{
 "cells": [
  {
   "cell_type": "code",
   "execution_count": 144,
   "metadata": {},
   "outputs": [
    {
     "name": "stdout",
     "output_type": "stream",
     "text": [
      "[0, 1, 1]\n",
      "[1, 0, 0]\n",
      "[1, 0, 0]\n"
     ]
    }
   ],
   "source": [
    "#using Adj. matrix\n",
    "class Graph:\n",
    "    def __init__(self, vertices=None):\n",
    "        if vertices is None:\n",
    "            vertices = []\n",
    "        \n",
    "        self.vertices = vertices\n",
    "        self.adj_matrix = [[0] * len(vertices) for _ in range(len(vertices))]   \n",
    "    \n",
    "    def add_edge(self, vertex1,vertex2):   \n",
    "        \n",
    "        if vertex1 in self.vertices and vertex2 in self.vertices:               \n",
    "            index1 = self.vertices.index(vertex1)\n",
    "            index2 = self.vertices.index(vertex2)\n",
    "\n",
    "            # for undirected graph\n",
    "            self.adj_matrix[index1][index2] =1\n",
    "            self.adj_matrix[index2][index1] =1\n",
    "\n",
    "            # Increment the count for Psuedograph\n",
    "            #self.adj_matrix[index1][index2] += 1\n",
    "            #self.adj_matrix[index2][index1] += 1\n",
    "\n",
    "    def remove_vertex(self,vertex):\n",
    "        if vertex in self.vertices:\n",
    "            idx = self.vertices.index(vertex)\n",
    "            \n",
    "            del self.vertices[idx]\n",
    "            del self.adj_matrix[idx]\n",
    "            for row in self.adj_matrix:\n",
    "                del row[idx]\n",
    "\n",
    "    def remove_edge(self,vertex1, vertex2):\n",
    "        if vertex1 in self.vertices and vertex2 in self.vertices:    \n",
    "            index1 = self.vertices.index(vertex1)\n",
    "            index2 = self.vertices.index(vertex2)\n",
    "            if self.adj_matrix[index1][index2] > 0:\n",
    "                self.adj_matrix[index1][index2] -= 1\n",
    "                self.adj_matrix[index2][index1] -= 1\n",
    "  \n",
    "    def print_edges(self):\n",
    "        for row in self.adj_matrix:\n",
    "            print(row)\n",
    "    \n",
    "\n",
    "if __name__ == \"__main__\":\n",
    "    vertices = ['a', 'b', 'c', 'd']\n",
    "    g = Graph(vertices)\n",
    "    \n",
    "\n",
    "    g.add_edge('a', 'b')\n",
    "    g.add_edge('a', 'd')\n",
    "    g.add_edge('b', 'c')\n",
    "    g.add_edge('c', 'd')\n",
    "    g.remove_vertex('c')\n",
    "    \n",
    "    g.print_edges()   \n"
   ]
  },
  {
   "cell_type": "code",
   "execution_count": 145,
   "metadata": {},
   "outputs": [
    {
     "name": "stdout",
     "output_type": "stream",
     "text": [
      "Graph: {'a': ['b', 'd'], 'b': ['a', 'c'], 'c': ['b', 'd'], 'd': ['a', 'c']}\n",
      "Edges: [('a', 'b'), ('a', 'd'), ('b', 'c'), ('d', 'c')]\n",
      "Graph: {'a': ['b'], 'b': ['a', 'c'], 'c': ['b']}\n",
      "Edges: [('a', 'b'), ('a', 'd'), ('b', 'c'), ('d', 'c')]\n"
     ]
    }
   ],
   "source": [
    "#using adj. list\n",
    "class Graph:\n",
    "    def __init__(self):\n",
    "        self.vertices = {}\n",
    "        self.edges = []\n",
    "\n",
    "    def add_vertex(self, vertex):\n",
    "        if vertex not in self.vertices:\n",
    "            self.vertices[vertex] = []\n",
    "\n",
    "    def add_edge(self, vertex1, vertex2):\n",
    "        if vertex1 in self.vertices and vertex2 in self.vertices:\n",
    "            self.vertices[vertex1].append(vertex2)\n",
    "            self.vertices[vertex2].append(vertex1)  \n",
    "            self.edges.append((vertex1, vertex2))\n",
    "\n",
    "    def remove_vertex(self, vertex):\n",
    "        \n",
    "        if vertex in self.vertices:\n",
    "            # Remove the vertex and all its incident edges\n",
    "            del self.vertices[vertex]\n",
    "            \n",
    "            for adj_list in self.vertices.values():\n",
    "                if vertex in adj_list:\n",
    "                    adj_list.remove(vertex)\n",
    "\n",
    "\n",
    "    def remove_edge(self, vertex1, vertex2):\n",
    "        if vertex1 in self.vertices and vertex2 in self.vertices:\n",
    "            if vertex2 in self.vertices[vertex1]:\n",
    "                self.vertices[vertex1].remove(vertex2)\n",
    "            if vertex1 in self.vertices[vertex2]:\n",
    "                self.vertices[vertex2].remove(vertex1)\n",
    "\n",
    "\n",
    "    def display(self):\n",
    "        print(\"Graph:\", self.vertices)\n",
    "        print(\"Edges:\", self.edges)\n",
    "\n",
    "\n",
    "# Example Usage:\n",
    "if __name__ == \"__main__\":\n",
    "    g = Graph()\n",
    "    g.add_vertex('a')\n",
    "    g.add_vertex('b')\n",
    "    g.add_vertex('c')\n",
    "    g.add_vertex('d')\n",
    "\n",
    "    g.add_edge('a', 'b')\n",
    "    g.add_edge('a', 'd')\n",
    "    g.add_edge('b', 'c')\n",
    "    g.add_edge('d', 'c')\n",
    "    g.display()\n",
    "\n",
    "    g.remove_vertex('d')\n",
    "    g.display()\n",
    "\n"
   ]
  },
  {
   "cell_type": "code",
   "execution_count": 146,
   "metadata": {},
   "outputs": [
    {
     "data": {
      "image/png": "[encoded data removed]",
      "text/plain": [
       "<Figure size 640x480 with 1 Axes>"
      ]
     },
     "metadata": {},
     "output_type": "display_data"
    }
   ],
   "source": [
    "import networkx as nx\n",
    "import matplotlib.pyplot as plt\n",
    "\n",
    "g = nx.Graph()\n",
    "\n",
    "g.add_node('a')\n",
    "g.add_node('b')\n",
    "g.add_node('c')\n",
    "g.add_node('d')\n",
    "\n",
    "g.add_edge('a', 'b')\n",
    "g.add_edge('a', 'd')\n",
    "g.add_edge('b', 'c')\n",
    "g.add_edge('b', 'd')\n",
    "g.add_edge('c', 'c')\n",
    "g.add_edge('c', 'd')\n",
    "\n",
    "# Visualize the graph\n",
    "nx.draw(g, with_labels=True, node_color='red', node_size=700, font_size=12)\n",
    "plt.show()\n"
   ]
  }
 ],
 "metadata": {
  "kernelspec": {
   "display_name": ".venv",
   "language": "python",
   "name": "python3"
  },
  "language_info": {
   "codemirror_mode": {
    "name": "ipython",
    "version": 3
   },
   "file_extension": ".py",
   "mimetype": "text/x-python",
   "name": "python",
   "nbconvert_exporter": "python",
   "pygments_lexer": "ipython3",
   "version": "3.12.1"
  }
 },
 "nbformat": 4,
 "nbformat_minor": 2
}
