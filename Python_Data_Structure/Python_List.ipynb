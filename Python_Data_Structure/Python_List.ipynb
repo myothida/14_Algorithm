{
 "cells": [
  {
   "cell_type": "markdown",
   "metadata": {},
   "source": [
    "Ptyhon: data structure - Refer to here https://docs.python.org/3/tutorial/datastructures.html"
   ]
  },
  {
   "cell_type": "code",
   "execution_count": null,
   "metadata": {},
   "outputs": [],
   "source": [
    "my_list = [16, 24, 36, 'name', 52, 'age', 'name', 63]\n",
    "print('Direct Indexing')\n",
    "print(my_list[0])\n",
    "print('Length:', len(my_list))\n",
    "\n",
    "print('Counting a target:', my_list.count(5))\n",
    "\n",
    "print('Finding the location of target:', my_list.index('age'))\n",
    "\n",
    "my_list.append('education')\n",
    "print(my_list)\n",
    "my_list.append(['education', 'exercise'])\n",
    "print(my_list)\n",
    "my_list.extend(['education', 'exercise'])\n",
    "print(my_list)\n",
    "my_list.insert(3, 'food') #index, value\n",
    "print(my_list)\n",
    "\n",
    "my_list.remove('name')\n",
    "print(my_list)\n",
    "\n",
    "print(my_list.pop())\n",
    "print(my_list)\n",
    "my_list.pop(5)\n",
    "\n",
    "print(my_list)\n",
    "print(my_list.clear())\n",
    "\n",
    "del(my_list[0:2])\n",
    "print(my_list)"
   ]
  },
  {
   "cell_type": "code",
   "execution_count": null,
   "metadata": {},
   "outputs": [],
   "source": [
    "my_fruits = ['banana', 'apple', 'kiwi', 'banana', 'pear', 'apple', 'orange', 'grape']\n",
    "print('Original:' , my_fruits)\n",
    "my_fruits.reverse()\n",
    "print('Reversed:', my_fruits)\n",
    "my_fruits.sort()\n",
    "print('Sorted:', my_fruits)"
   ]
  },
  {
   "cell_type": "code",
   "execution_count": null,
   "metadata": {},
   "outputs": [],
   "source": [
    "list1 = [100]\n",
    "import sys\n",
    "print('address of first element is:', id(list1[0]))\n",
    "print('Memory Size:', sys.getsizeof(list1))\n",
    "\n",
    "list1.append(200)\n",
    "print(list1)\n",
    "print('address of first element is:', id(list1[1]))\n",
    "print('Memory Size:', sys.getsizeof(list1))\n",
    "\n",
    "list1.append(300)\n",
    "print(list1)\n",
    "print('address of first element is:', id(list1[2]))\n",
    "print('Memory Size:', sys.getsizeof(list1))\n",
    "\n",
    "list1.append(400)\n",
    "print(list1)\n",
    "print('Memory Size:', sys.getsizeof(list1))\n",
    "\n",
    "list1.append(500)\n",
    "print(list1)\n",
    "print('Memory Size:',sys.getsizeof(list1))\n",
    "\n",
    "list1.append(600)\n",
    "print(list1)\n",
    "print('Memory Size:',sys.getsizeof(list1))\n",
    "\n",
    "list1.append(700)\n",
    "print(list1)\n",
    "print('Memory Size:',sys.getsizeof(list1))\n",
    "\n",
    "list1.append(800)\n",
    "print(list1)\n",
    "print('Memory Size:',sys.getsizeof(list1))\n",
    "\n",
    "list1.append(900)\n",
    "print(list1)\n",
    "print('address of first element is:', id(list1[2]))\n",
    "print('Memory Size:',sys.getsizeof(list1))\n"
   ]
  }
 ],
 "metadata": {
  "kernelspec": {
   "display_name": ".venv",
   "language": "python",
   "name": "python3"
  },
  "language_info": {
   "codemirror_mode": {
    "name": "ipython",
    "version": 3
   },
   "file_extension": ".py",
   "mimetype": "text/x-python",
   "name": "python",
   "nbconvert_exporter": "python",
   "pygments_lexer": "ipython3",
   "version": "3.12.1"
  }
 },
 "nbformat": 4,
 "nbformat_minor": 2
}
