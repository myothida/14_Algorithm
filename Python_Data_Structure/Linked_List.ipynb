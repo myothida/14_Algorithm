{
 "cells": [
  {
   "cell_type": "code",
   "execution_count": 1,
   "metadata": {},
   "outputs": [
    {
     "name": "stdout",
     "output_type": "stream",
     "text": [
      "Elements in stack are deque([21, 26, 38])\n",
      "Last In First Out: 38\n",
      "Last In First Out: 26\n",
      "Last In First Out: 21\n"
     ]
    }
   ],
   "source": [
    "from collections import deque\n",
    "\n",
    "# Stack \n",
    "stack = deque()\n",
    "\n",
    "# Push elements onto the stack\n",
    "stack.append(21)\n",
    "stack.append(26)\n",
    "stack.append(38)\n",
    "print(\"Elements in stack are\", stack)\n",
    "# Pop elements from the stack\n",
    "popped_element = stack.pop()\n",
    "print(\"Last In First Out:\", popped_element)\n",
    "popped_element = stack.pop()\n",
    "print(\"Last In First Out:\", popped_element)\n",
    "popped_element = stack.pop()\n",
    "print(\"Last In First Out:\", popped_element)"
   ]
  },
  {
   "cell_type": "code",
   "execution_count": 8,
   "metadata": {},
   "outputs": [
    {
     "name": "stdout",
     "output_type": "stream",
     "text": [
      "Elements in Queue are deque([1, 2, 3])\n",
      "Dequeued element from the queue: 1\n",
      "Dequeued element from the queue: 2\n",
      "Dequeued element from the queue: 3\n"
     ]
    }
   ],
   "source": [
    "from collections import deque\n",
    "\n",
    "# Queue \n",
    "queue = deque()\n",
    "\n",
    "# Enqueue elements into the queue\n",
    "queue.append(1)\n",
    "queue.append(2)\n",
    "queue.append(3)\n",
    "\n",
    "print(\"Elements in Queue are\", queue)\n",
    "# Dequeue elements from the queue\n",
    "dequeued_element = queue.popleft()\n",
    "print(\"Dequeued element from the queue:\", dequeued_element)\n",
    "dequeued_element = queue.popleft()\n",
    "print(\"Dequeued element from the queue:\", dequeued_element)\n",
    "dequeued_element = queue.popleft()\n",
    "print(\"Dequeued element from the queue:\", dequeued_element)"
   ]
  },
  {
   "cell_type": "code",
   "execution_count": null,
   "metadata": {},
   "outputs": [],
   "source": []
  }
 ],
 "metadata": {
  "kernelspec": {
   "display_name": "Python 3",
   "language": "python",
   "name": "python3"
  },
  "language_info": {
   "codemirror_mode": {
    "name": "ipython",
    "version": 3
   },
   "file_extension": ".py",
   "mimetype": "text/x-python",
   "name": "python",
   "nbconvert_exporter": "python",
   "pygments_lexer": "ipython3",
   "version": "3.12.1"
  }
 },
 "nbformat": 4,
 "nbformat_minor": 2
}
