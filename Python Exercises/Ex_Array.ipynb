{
 "cells": [
  {
   "cell_type": "markdown",
   "metadata": {},
   "source": [
    "Insert Your data in the below cell:"
   ]
  },
  {
   "cell_type": "code",
   "execution_count": null,
   "metadata": {},
   "outputs": [],
   "source": [
    "#Name: _____________________________________\n",
    "\n",
    "#ID: _______________________________________\n",
    "\n",
    "#Submitted on: _____________________________"
   ]
  },
  {
   "cell_type": "markdown",
   "metadata": {},
   "source": [
    "Create the following arrays using Python. \n",
    "\n",
    "1) 2 dimensional arrays with 10 rows and 2 columns. Initiate all values with 3. \n",
    "2) 1 dimensional array with the 5 even numbers between 0 and 10. "
   ]
  },
  {
   "cell_type": "code",
   "execution_count": 9,
   "metadata": {},
   "outputs": [
    {
     "data": {
      "text/plain": [
       "array([ 2,  4,  6,  8, 10])"
      ]
     },
     "execution_count": 9,
     "metadata": {},
     "output_type": "execute_result"
    }
   ],
   "source": [
    "import numpy as np\n",
    "\n",
    "arr1 = np.full([10,2],3, int)\n",
    "arr2 = np.arange(2,11,2)\n"
   ]
  },
  {
   "cell_type": "markdown",
   "metadata": {},
   "source": [
    "Given an array arr[] of size N-1 with integers in the range of [1, N], the task is to find the missing number from the first N integers.\n",
    "\n",
    "Note: There are no duplicates in the list."
   ]
  },
  {
   "cell_type": "code",
   "execution_count": 35,
   "metadata": {},
   "outputs": [
    {
     "name": "stdout",
     "output_type": "stream",
     "text": [
      "missing:  6\n",
      "Number of iterations: 8\n",
      "missing:  7\n",
      "Number of iterations: 8\n"
     ]
    }
   ],
   "source": [
    "def find_missing_numbers(arr):\n",
    "    N = len(arr)+1\n",
    "    for idx in range(1,N+1):\n",
    "        if idx not in arr:\n",
    "            print ('missing: ', str(idx))\n",
    "    return idx\n",
    "\n",
    "#sorted array\n",
    "arr1 = [1, 2, 3, 4, 5, 7, 8]\n",
    "print('Number of iterations:' , find_missing_numbers(arr1))\n",
    "#unsorted array\n",
    "arr2 = [3,4, 2, 1, 5, 6, 8]\n",
    "print('Number of iterations:' , find_missing_numbers(arr2))"
   ]
  },
  {
   "cell_type": "markdown",
   "metadata": {},
   "source": [
    "Write an algorithm to find the sum of all even numbers in an array without using built-in functions. Print the number of iterations required. "
   ]
  },
  {
   "cell_type": "code",
   "execution_count": 40,
   "metadata": {},
   "outputs": [
    {
     "name": "stdout",
     "output_type": "stream",
     "text": [
      "Number of iterations: 7 Sum: 14\n",
      "Number of iterations: 7 Sum: 20\n"
     ]
    }
   ],
   "source": [
    "def find_sum_array(arr):\n",
    "    sum_even = 0\n",
    "    for idx in np.arange(len(arr)):\n",
    "        if(arr[idx]%2==0):\n",
    "            sum_even = sum_even + arr[idx]\n",
    "    return idx+1, sum_even\n",
    "\n",
    "#sorted array\n",
    "arr1 = [1, 2, 3, 4, 5, 7, 8]\n",
    "N, ans = find_sum_array(arr1)\n",
    "print('Number of iterations:' , N, 'Sum:', ans)\n",
    "\n",
    "#unsorted array\n",
    "arr2 = [3,4, 2, 1, 5, 6, 8]\n",
    "N, ans = find_sum_array(arr2)\n",
    "print('Number of iterations:' , N,  'Sum:', ans)"
   ]
  },
  {
   "cell_type": "markdown",
   "metadata": {},
   "source": [
    "Write an algorithm to find the maximum element in an array without using built-in functions. Print the number of iterations required. "
   ]
  },
  {
   "cell_type": "code",
   "execution_count": null,
   "metadata": {},
   "outputs": [],
   "source": []
  },
  {
   "cell_type": "markdown",
   "metadata": {},
   "source": [
    "Write an algorithm to move all zeros to the end of the given array of integers while maintaining the order of non-zero elements. Print the number of iterations required. "
   ]
  },
  {
   "cell_type": "code",
   "execution_count": null,
   "metadata": {},
   "outputs": [],
   "source": []
  },
  {
   "cell_type": "markdown",
   "metadata": {},
   "source": [
    "Write an algorithm to find the GCD (Greatest Common Divisor) of the array elements in Python. Print the number of iterations required. "
   ]
  },
  {
   "cell_type": "code",
   "execution_count": null,
   "metadata": {},
   "outputs": [],
   "source": []
  },
  {
   "cell_type": "markdown",
   "metadata": {},
   "source": [
    "Write an algorithm to find the target number (ask from user) in an array. Print the number of iterations required. "
   ]
  },
  {
   "cell_type": "markdown",
   "metadata": {},
   "source": []
  }
 ],
 "metadata": {
  "kernelspec": {
   "display_name": "base",
   "language": "python",
   "name": "python3"
  },
  "language_info": {
   "codemirror_mode": {
    "name": "ipython",
    "version": 3
   },
   "file_extension": ".py",
   "mimetype": "text/x-python",
   "name": "python",
   "nbconvert_exporter": "python",
   "pygments_lexer": "ipython3",
   "version": "3.12.1"
  }
 },
 "nbformat": 4,
 "nbformat_minor": 2
}
