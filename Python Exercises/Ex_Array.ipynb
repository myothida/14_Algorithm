{
 "cells": [
  {
   "cell_type": "markdown",
   "metadata": {},
   "source": [
    "Insert Your data in the below cell:"
   ]
  },
  {
   "cell_type": "code",
   "execution_count": null,
   "metadata": {},
   "outputs": [],
   "source": [
    "#Name: _____________________________________\n",
    "\n",
    "#ID: _______________________________________\n",
    "\n",
    "#Submitted on: _____________________________"
   ]
  },
  {
   "cell_type": "markdown",
   "metadata": {},
   "source": [
    "Create the following arrays using Python. \n",
    "\n",
    "1) 2 dimensional arrays with 10 rows and 2 columns. Initiate all values with 3. \n",
    "2) 1 dimensional array with the 5 even numbers between 0 and 10. "
   ]
  },
  {
   "cell_type": "code",
   "execution_count": null,
   "metadata": {},
   "outputs": [],
   "source": [
    "import numpy as np\n",
    "\n",
    "arr1 = np.full([10,2],3, int)\n",
    "arr2 = np.arange(2,11,2)\n"
   ]
  },
  {
   "cell_type": "markdown",
   "metadata": {},
   "source": [
    "Given an array arr[] of size N-1 with integers in the range of [1, N], the task is to find the missing number from the first N integers.\n",
    "\n",
    "Note: There are no duplicates in the list."
   ]
  },
  {
   "cell_type": "code",
   "execution_count": null,
   "metadata": {},
   "outputs": [],
   "source": [
    "def find_missing_numbers(arr):\n",
    "    N = len(arr)+1\n",
    "    for idx in range(1,N+1):\n",
    "        if idx not in arr:\n",
    "            print ('missing: ', str(idx))\n",
    "    return idx\n",
    "\n",
    "#sorted array\n",
    "arr1 = [1, 2, 3, 4, 5, 7, 8]\n",
    "print('Number of iterations:' , find_missing_numbers(arr1))\n",
    "\n",
    "#unsorted array\n",
    "arr2 = [3,4, 2, 1, 5, 6, 8]\n",
    "print('Number of iterations:' , find_missing_numbers(arr2))"
   ]
  },
  {
   "cell_type": "markdown",
   "metadata": {},
   "source": [
    "Write an algorithm to find the sum of all even numbers in an array without using built-in functions. Print the number of iterations required. "
   ]
  },
  {
   "cell_type": "code",
   "execution_count": null,
   "metadata": {},
   "outputs": [],
   "source": [
    "def find_sum_array(arr):\n",
    "    sum_even = 0\n",
    "    for idx in np.arange(len(arr)):\n",
    "        if(arr[idx]%2==0):\n",
    "            sum_even = sum_even + arr[idx]\n",
    "    return idx+1, sum_even\n",
    "\n",
    "#sorted array\n",
    "arr1 = [1, 2, 3, 4, 5, 7, 8]\n",
    "N, ans = find_sum_array(arr1)\n",
    "print('Number of iterations:' , N, 'Sum:', ans)\n",
    "\n",
    "#unsorted array\n",
    "arr2 = [3,4, 2, 1, 5, 6, 8] \n",
    "N, ans = find_sum_array(arr2)\n",
    "print('Number of iterations:' , N,  'Sum:', ans)"
   ]
  },
  {
   "cell_type": "markdown",
   "metadata": {},
   "source": [
    "Write an algorithm to find the maximum element in an array without using built-in functions. Print the number of iterations required. "
   ]
  },
  {
   "cell_type": "code",
   "execution_count": null,
   "metadata": {},
   "outputs": [],
   "source": [
    "def find_max(arr):\n",
    "    max_num = arr[0]\n",
    "    for idx, value in enumerate(arr):\n",
    "        if(max_num<value):\n",
    "            max_num = value        \n",
    "    return idx+1, max_num\n",
    "\n",
    "\n",
    "#sorted array\n",
    "arr1 = [1, 2, 3, 4, 5, 7, 8]\n",
    "N, ans = find_max(arr1)\n",
    "print('Number of iterations:' , N, 'Max:', ans)\n",
    "\n",
    "#unsorted array\n",
    "arr2 = [3,4, 2, 1, 5, 6, 8]\n",
    "N, ans = find_max(arr2)\n",
    "print('Number of iterations:' , N,  'Max:', ans)"
   ]
  },
  {
   "cell_type": "markdown",
   "metadata": {},
   "source": [
    "Write an algorithm to move all zeros to the end of the given array of integers while maintaining the order of non-zero elements. Print the number of iterations required. "
   ]
  },
  {
   "cell_type": "code",
   "execution_count": null,
   "metadata": {},
   "outputs": [],
   "source": [
    "def sort_arr(arr):\n",
    "    new_arr = np.empty(len(arr), int)\n",
    "    idx_new = 0\n",
    "    num_iterations = 0\n",
    "    for idx in range(len(arr)):\n",
    "        num_iterations =  num_iterations +1 \n",
    "        if(arr[idx] != 0):\n",
    "            new_arr[idx_new] = arr[idx]\n",
    "            idx_new = idx_new + 1\n",
    "   \n",
    "    if(idx_new<idx):\n",
    "        new_arr[idx_new:idx+1] = 0\n",
    "\n",
    "    print('Iterations for pusshing zero offs:', num_iterations)\n",
    "\n",
    "    n = len(new_arr)\n",
    "    for i in range(0, n):\n",
    "        for j in range(0, n-1):\n",
    "            # Swap if the element found is greater than the next element         \n",
    "            num_iterations =  num_iterations +1 \n",
    "            if new_arr[j] > new_arr[j + 1]:                \n",
    "                new_arr[j], new_arr[j + 1] = new_arr[j + 1], new_arr[j]\n",
    "\n",
    "    return new_arr, num_iterations\n",
    "\n",
    "\n",
    "#sorted array\n",
    "arr1 = [9, 1, 0, 0, 2, 3, 0, 5, 7, 8]\n",
    "ans = sort_arr(arr1)\n",
    "print('New Array is:' , ans)\n"
   ]
  },
  {
   "cell_type": "markdown",
   "metadata": {},
   "source": [
    "Write an algorithm to find the GCD (Greatest Common Divisor) of the array elements in Python. Print the number of iterations required. "
   ]
  },
  {
   "cell_type": "code",
   "execution_count": null,
   "metadata": {},
   "outputs": [],
   "source": [
    "def find_GCD_twonumbers(num1, num2):\n",
    "    num_iterations = 0\n",
    "    while(num2>0):\n",
    "        num1, num2 = num2, num1% num2\n",
    "        num_iterations = num_iterations +1 \n",
    "    print('num_iterations', num_iterations)\n",
    "    print('GCD:', num1)\n",
    "    return num1, num_iterations\n",
    "\n",
    "def find_GCD(arr):\n",
    "    total_iterations = 0\n",
    "    gcd, num_iter = find_GCD_twonumbers(arr1[0], arr1[1])\n",
    "    total_iterations = total_iterations + num_iter\n",
    "    for idx in range(2,len(arr)):\n",
    "        gcd, num_iter = find_GCD_twonumbers(gcd, arr[idx])\n",
    "        total_iterations = total_iterations + num_iter\n",
    "\n",
    "    return gcd, total_iterations\n",
    "\n",
    "#sorted array\n",
    "arr1 = [9, 15, 3, 6, 30, 21, 0, 48]\n",
    "ans, N= find_GCD(arr1)\n",
    "print('GCD of array:' , ans, 'Num of iteratoins', N)\n",
    "    "
   ]
  },
  {
   "cell_type": "markdown",
   "metadata": {},
   "source": [
    "Write an algorithm to find the target number (ask from user) in an array. Print the number of iterations required. "
   ]
  },
  {
   "cell_type": "code",
   "execution_count": null,
   "metadata": {},
   "outputs": [],
   "source": [
    "def find_num(arr, target):\n",
    "    for idx, value in enumerate(arr):        \n",
    "        if(target==value):\n",
    "            return True, idx + 1\n",
    "    return False, idx + 1\n",
    "    \n",
    "        \n",
    "#sorted array\n",
    "arr1 = [8, 3, 2, 16, 54, 21, 1, 2, 3, 4, 5, 7, 8]\n",
    "target = input('Enter number to find:')\n",
    "ans, N = find_num(arr1, int(target))\n",
    "print('Number of iterations:' , N, 'target:', ans)\n",
    "\n",
    "\n",
    "#unsorted array\n",
    "arr2 = [3,4, 2, 1, 5, 6, 8]\n",
    "target = input('Enter number to find:')\n",
    "ans, N = find_num(arr2, int(target))\n",
    "print('Number of iterations:' , N, 'target:', ans)\n"
   ]
  },
  {
   "cell_type": "markdown",
   "metadata": {},
   "source": [
    "Given an array of integers and an integer k, find the total number of continuous subarrays whose sum equals k."
   ]
  },
  {
   "cell_type": "code",
   "execution_count": null,
   "metadata": {},
   "outputs": [],
   "source": [
    "def find_subarrays(arr, k):\n",
    "    sub_arry = 0\n",
    "    for idx in range(len(arr)):\n",
    "        sub_sum = 0\n",
    "        for jdx in range(idx, len(arr)):\n",
    "            sub_sum = sub_sum + arr[jdx]\n",
    "            if(sub_sum == k):\n",
    "                sub_arry = sub_arry +1\n",
    "                print(arr[idx:jdx+1])\n",
    "\n",
    "    return sub_arry\n",
    "\n",
    "arr1 = np.linspace(0, 20, 55)\n",
    "find_subarrays(arr1,10)"
   ]
  },
  {
   "cell_type": "code",
   "execution_count": null,
   "metadata": {},
   "outputs": [],
   "source": [
    "#Jack\n",
    "import numpy as np\n",
    "def tot_subarrays(n):\n",
    "    num_arrays = 0\n",
    "    total = input()\n",
    "    length = len(n)\n",
    "\n",
    "    for i in n:\n",
    "        for j in (n-1):\n",
    "            if n[j] == total:\n",
    "                num_arrays += 1\n",
    "\n",
    "            if n[j ]+ n[j + 1] == total:\n",
    "                num_arrays += 1\n",
    "\n",
    "            if n[j] + n[j+1] + n[j+2] == total:\n",
    "                num_arrays += 1\n",
    "        \n",
    "    return num_arrays\n",
    "\n",
    "\n",
    "arr1 = np.linspace(0, 20, 55)\n",
    "tot_subarrays(arr1)"
   ]
  },
  {
   "cell_type": "code",
   "execution_count": null,
   "metadata": {},
   "outputs": [],
   "source": [
    "# Evelyn\n",
    "def find_subarray(yourarray):\n",
    "    outputS = 0\n",
    "    for m2 in range(len(yourarray)-1):\n",
    "        for m3 in range(m2):\n",
    "            NA = yourarray[m3:(m2+1)]\n",
    "            \n",
    "            S = 0\n",
    "            for z in range(len(NA)):\n",
    "                S+=NA[z]\n",
    "            if S == 10:\n",
    "                print(NA)\n",
    "                outputS+=1\n",
    "    return outputS\n",
    "\n",
    "\n",
    "arr1 = np.linspace(0, 20, 55)\n",
    "find_subarray(arr1)"
   ]
  },
  {
   "cell_type": "code",
   "execution_count": null,
   "metadata": {},
   "outputs": [],
   "source": [
    "# Evelyn\n",
    "def sort_array(my_array):\n",
    "    n = len(my_array)\n",
    "    na = []\n",
    "    iteration = 0\n",
    "    for i in range(0, n):\n",
    "        iteration += 1\n",
    "        f = False\n",
    "        for j in range(0, len(na)):\n",
    "            iteration += 1\n",
    "            if my_array[i]<na[j]:\n",
    "                 na.insert(j,my_array[i])\n",
    "                 f = True\n",
    "                 break\n",
    "        if f:\n",
    "            continue\n",
    "        else:\n",
    "            na.insert(0,my_array[i])\n",
    "    return iteration, na\n",
    "\n",
    "reverseData = [65, 53, 52, 33, 24, 23, 20, 12, 4, 1 ]\n",
    "N, na = sort_array(reverseData)\n",
    "print(N)\n",
    "na"
   ]
  },
  {
   "cell_type": "code",
   "execution_count": null,
   "metadata": {},
   "outputs": [],
   "source": [
    "import numpy as np\n",
    "def sub_arrays_sum(arr, target_sum):\n",
    "    count = 0  \n",
    "    iterations = 0  \n",
    "    for i in range(len(arr)):  \n",
    "        current_sum = 0  \n",
    "        for j in range(i, len(arr)):  \n",
    "            iterations += 1 \n",
    "            current_sum += arr[j]  \n",
    "            if current_sum == target_sum:  \n",
    "                count += 1 \n",
    "            elif current_sum > target_sum:  \n",
    "                break  \n",
    "    return count, iterations \n",
    "\n",
    "\n",
    "arr = [i * 20 / 54 for i in range(55)]\n",
    "arr1 = np.linspace(0, 20, 55)\n",
    "result, iterations = sub_arrays_sum(arr1, 10)\n",
    "print(\"Total number of continuous subarrays whose sum equals 10:\", result)\n",
    "print(\"Total number of iterations:\", iterations)"
   ]
  },
  {
   "cell_type": "code",
   "execution_count": null,
   "metadata": {},
   "outputs": [],
   "source": [
    "array = np.linspace(0, 20, 55)\n",
    "\n",
    "sum = 0\n",
    "i = 1\n",
    "\n",
    "while(sum<=10):\n",
    "  sum = sum + array[i]\n",
    "  print(\"we've added\",array[i],\"and the sum is\", sum)\n",
    "  i=i+1\n",
    "print(i)"
   ]
  },
  {
   "cell_type": "code",
   "execution_count": null,
   "metadata": {},
   "outputs": [],
   "source": [
    "import numpy as np\n",
    "\n",
    "def func(arr: list, k: int) -> int:\n",
    "    c:int = 0\n",
    "    for i in range(len(arr)):\n",
    "        sum: int = 0\n",
    "        for j in range(i, len(arr)):\n",
    "            sum += arr[j]\n",
    "            if(sum == k):\n",
    "                c += 1\n",
    "                print(arr[i:j+1])\n",
    "    print(c)\n",
    "    return c\n",
    "\n",
    "s = np.linspace(0,20,55)\n",
    "print(func(s,10))\n",
    "\n",
    "#num iter = 55*56/2 or n(n+1)/2"
   ]
  },
  {
   "cell_type": "code",
   "execution_count": null,
   "metadata": {},
   "outputs": [],
   "source": [
    "def count_continuous_subarrays(arr, target_sum):\n",
    "    count = 0\n",
    "    iterations = 0\n",
    "    n = len(arr)\n",
    "    for i in range(n):\n",
    "        current_sum = 0\n",
    "        for j in range(i, n):\n",
    "            iterations += 1\n",
    "            current_sum += arr[j]\n",
    "            if current_sum == target_sum:\n",
    "                count += 1\n",
    "    return count, iterations\n",
    "\n",
    "arr = np.linspace(0,20,55)\n",
    "target_sum = int(input(\"Enter an integer:\"))\n",
    "subarray_count, iterations = count_continuous_subarrays(arr, target_sum)\n",
    "print(\"Total continuous subarrays with sum\", target_sum, \":\", subarray_count)"
   ]
  }
 ],
 "metadata": {
  "kernelspec": {
   "display_name": "base",
   "language": "python",
   "name": "python3"
  },
  "language_info": {
   "codemirror_mode": {
    "name": "ipython",
    "version": 3
   },
   "file_extension": ".py",
   "mimetype": "text/x-python",
   "name": "python",
   "nbconvert_exporter": "python",
   "pygments_lexer": "ipython3",
   "version": "3.12.1"
  }
 },
 "nbformat": 4,
 "nbformat_minor": 2
}
